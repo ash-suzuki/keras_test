{
 "cells": [
  {
   "cell_type": "code",
   "execution_count": 1,
   "metadata": {
    "collapsed": true
   },
   "outputs": [],
   "source": [
    "import os\n",
    "import sys\n",
    "sys.path.append('../keras_test')"
   ]
  },
  {
   "cell_type": "code",
   "execution_count": 2,
   "metadata": {},
   "outputs": [
    {
     "name": "stderr",
     "output_type": "stream",
     "text": [
      "Using TensorFlow backend.\n"
     ]
    },
    {
     "name": "stdout",
     "output_type": "stream",
     "text": [
      "Loading the data...\n",
      "Completed\n"
     ]
    },
    {
     "name": "stderr",
     "output_type": "stream",
     "text": [
      "C:\\Users\\ash\\.conda\\envs\\vs\\lib\\site-packages\\ipykernel_launcher.py:50: UserWarning: Update your `Dense` call to the Keras 2 API: `Dense(64, input_shape=(784,), name=\"dense1\", kernel_initializer=\"normal\")`\n",
      "C:\\Users\\ash\\.conda\\envs\\vs\\lib\\site-packages\\ipykernel_launcher.py:53: UserWarning: Update your `Dense` call to the Keras 2 API: `Dense(64, name=\"dense2\", kernel_initializer=\"normal\")`\n",
      "C:\\Users\\ash\\.conda\\envs\\vs\\lib\\site-packages\\ipykernel_launcher.py:56: UserWarning: Update your `Dense` call to the Keras 2 API: `Dense(10, name=\"dense3\", kernel_initializer=\"normal\")`\n"
     ]
    },
    {
     "name": "stdout",
     "output_type": "stream",
     "text": [
      "_________________________________________________________________\n",
      "Layer (type)                 Output Shape              Param #   \n",
      "=================================================================\n",
      "dense1 (Dense)               (None, 64)                50240     \n",
      "_________________________________________________________________\n",
      "relu1 (Activation)           (None, 64)                0         \n",
      "_________________________________________________________________\n",
      "dropout1 (Dropout)           (None, 64)                0         \n",
      "_________________________________________________________________\n",
      "dense2 (Dense)               (None, 64)                4160      \n",
      "_________________________________________________________________\n",
      "relu2 (Activation)           (None, 64)                0         \n",
      "_________________________________________________________________\n",
      "dropout2 (Dropout)           (None, 64)                0         \n",
      "_________________________________________________________________\n",
      "dense3 (Dense)               (None, 10)                650       \n",
      "_________________________________________________________________\n",
      "softmax1 (Activation)        (None, 10)                0         \n",
      "=================================================================\n",
      "Total params: 55,050\n",
      "Trainable params: 55,050\n",
      "Non-trainable params: 0\n",
      "_________________________________________________________________\n",
      "Train on 60000 samples, validate on 10000 samples\n",
      "Epoch 1/2\n",
      "60000/60000 [==============================] - 9s - loss: 2.2396 - acc: 0.2794 - val_loss: 2.1139 - val_acc: 0.3599\n",
      "Epoch 2/2\n",
      "60000/60000 [==============================] - 7s - loss: 1.7637 - acc: 0.4944 - val_loss: 1.3244 - val_acc: 0.6091\n",
      "Test score: 1.32970474873\n",
      "Test accuracy; 0.6067\n"
     ]
    }
   ],
   "source": [
    "import numpy as np\n",
    "from keras.datasets import mnist\n",
    "from keras.models import Sequential\n",
    "from keras.layers.core import Dense, Dropout, Activation\n",
    "from keras.optimizers import SGD\n",
    "from keras.utils import np_utils\n",
    "import keras.callbacks\n",
    "import keras.backend.tensorflow_backend as KTF\n",
    "import tensorflow as tf\n",
    "from tensorboard_environment import TensorboardEnvironment\n",
    "\n",
    "def load_mnist(npy_dir=os.path.join('C:\\\\', 'Users', 'ash', 'Downloads', 'mnist_npy')):\n",
    "    x_train = np.load(os.path.join(npy_dir, 'x_train.npy'))\n",
    "    x_test = np.load(os.path.join(npy_dir, 'x_test.npy'))\n",
    "    y_train = np.load(os.path.join(npy_dir, 'y_train.npy'))\n",
    "    y_test = np.load(os.path.join(npy_dir, 'y_test.npy'))\n",
    "    return (x_train, y_train), (x_test, y_test)\n",
    "\n",
    "os.environ[\"CUDA_DEVICE_ORDER\"]=\"PCI_BUS_ID\"\n",
    "os.environ[\"CUDA_VISIBLE_DEVICES\"]=\"-1\"\n",
    "\n",
    "batch_size = 128\n",
    "n_classes = 10\n",
    "epochs   = 2\n",
    "n_data    = 28*28\n",
    "log_filepath = './log'\n",
    "npy_dir = os.path.join('C:\\\\', 'Users', 'ash', 'Downloads', 'mnist_npy')\n",
    "\n",
    "# load data\n",
    "print(\"Loading the data...\")\n",
    "(x_train, y_train), (x_test, y_test) = load_mnist(npy_dir=os.path.join('C:\\\\', 'Users', 'ash', 'Downloads', 'mnist_npy'))\n",
    "print(\"Completed\")\n",
    "\n",
    "# reshape\n",
    "x_train = x_train.reshape(x_train.shape[0], x_train.shape[1]*x_train.shape[2])\n",
    "x_test = x_test.reshape(x_test.shape[0], x_test.shape[1]*x_test.shape[2])\n",
    "\n",
    "# rescale\n",
    "x_train = x_train.astype(np.float32)\n",
    "x_test  = x_test.astype(np.float32)\n",
    "x_train /= 255\n",
    "x_test  /= 255\n",
    "\n",
    "# convert class vectors to binary class matrices (one hot vectors)\n",
    "y_train = np_utils.to_categorical(y_train, n_classes)\n",
    "y_test = np_utils.to_categorical(y_test, n_classes)\n",
    "\n",
    "with TensorboardEnvironment():\n",
    "    model = Sequential()\n",
    "    model.add(Dense(64, input_shape=(n_data,), init='normal', name='dense1'))\n",
    "    model.add(Activation('relu', name='relu1'))\n",
    "    model.add(Dropout(0.2, name='dropout1'))\n",
    "    model.add(Dense(64, init='normal', name='dense2'))\n",
    "    model.add(Activation('relu', name='relu2'))\n",
    "    model.add(Dropout(0.2, name='dropout2'))\n",
    "    model.add(Dense(10, init='normal', name='dense3'))\n",
    "    model.add(Activation('softmax', name='softmax1'))       \n",
    "    model.summary()\n",
    "\n",
    "    model.compile(loss='categorical_crossentropy', optimizer=SGD(lr=0.01), metrics=['accuracy'])\n",
    "\n",
    "    tb_cb = keras.callbacks.TensorBoard(log_dir=log_filepath, histogram_freq=1)\n",
    "    cbks = [tb_cb]\n",
    "\n",
    "    history = model.fit(x_train, y_train, batch_size=batch_size, epochs=epochs, verbose=1, callbacks=cbks, validation_data=(x_test, y_test))\n",
    "\n",
    "    score = model.evaluate(x_test, y_test, verbose=0)\n",
    "    print('Test score:', score[0])\n",
    "    print('Test accuracy;', score[1])"
   ]
  },
  {
   "cell_type": "code",
   "execution_count": null,
   "metadata": {
    "collapsed": true
   },
   "outputs": [],
   "source": []
  }
 ],
 "metadata": {
  "kernelspec": {
   "display_name": "Python 3",
   "language": "python",
   "name": "python3"
  },
  "language_info": {
   "codemirror_mode": {
    "name": "ipython",
    "version": 3
   },
   "file_extension": ".py",
   "mimetype": "text/x-python",
   "name": "python",
   "nbconvert_exporter": "python",
   "pygments_lexer": "ipython3",
   "version": "3.6.1"
  }
 },
 "nbformat": 4,
 "nbformat_minor": 2
}

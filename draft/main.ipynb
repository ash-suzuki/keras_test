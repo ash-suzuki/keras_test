{
 "cells": [
  {
   "cell_type": "code",
   "execution_count": 1,
   "metadata": {
    "collapsed": true
   },
   "outputs": [],
   "source": [
    "import sys\n",
    "sys.path.append('../keras_test')"
   ]
  },
  {
   "cell_type": "code",
   "execution_count": 2,
   "metadata": {
    "collapsed": true
   },
   "outputs": [],
   "source": [
    "batch_size = 128\n",
    "n_classes = 10\n"
   ]
  },
  {
   "cell_type": "code",
   "execution_count": 3,
   "metadata": {},
   "outputs": [
    {
     "name": "stderr",
     "output_type": "stream",
     "text": [
      "Using TensorFlow backend.\n"
     ]
    }
   ],
   "source": [
    "from load_mnist import load_mnist\n",
    "(x_train, y_train), (x_test, y_test) = load_mnist(x_style='one_channel')\n"
   ]
  },
  {
   "cell_type": "code",
   "execution_count": 4,
   "metadata": {},
   "outputs": [
    {
     "data": {
      "text/plain": [
       "(60000, 28, 28, 1)"
      ]
     },
     "execution_count": 4,
     "metadata": {},
     "output_type": "execute_result"
    }
   ],
   "source": [
    "x_train.shape"
   ]
  },
  {
   "cell_type": "code",
   "execution_count": 5,
   "metadata": {
    "collapsed": true
   },
   "outputs": [],
   "source": [
    "epochs = 3\n",
    "log_filepath = './log'\n"
   ]
  },
  {
   "cell_type": "code",
   "execution_count": 6,
   "metadata": {},
   "outputs": [
    {
     "name": "stdout",
     "output_type": "stream",
     "text": [
      "_________________________________________________________________\n",
      "Layer (type)                 Output Shape              Param #   \n",
      "=================================================================\n",
      "input_1 (InputLayer)         (None, 28, 28, 1)         0         \n",
      "_________________________________________________________________\n",
      "flatten (Flatten)            (None, 784)               0         \n",
      "_________________________________________________________________\n",
      "dense1 (Dense)               (None, 1024)              803840    \n",
      "_________________________________________________________________\n",
      "relu1 (Activation)           (None, 1024)              0         \n",
      "_________________________________________________________________\n",
      "batch_normalization_1 (Batch (None, 1024)              4096      \n",
      "_________________________________________________________________\n",
      "dropout1 (Dropout)           (None, 1024)              0         \n",
      "_________________________________________________________________\n",
      "dense2 (Dense)               (None, 1024)              1049600   \n",
      "_________________________________________________________________\n",
      "relu2 (Activation)           (None, 1024)              0         \n",
      "_________________________________________________________________\n",
      "batch_normalization_2 (Batch (None, 1024)              4096      \n",
      "_________________________________________________________________\n",
      "dropout2 (Dropout)           (None, 1024)              0         \n",
      "_________________________________________________________________\n",
      "dense3 (Dense)               (None, 10)                10250     \n",
      "_________________________________________________________________\n",
      "softmax1 (Activation)        (None, 10)                0         \n",
      "=================================================================\n",
      "Total params: 1,871,882\n",
      "Trainable params: 1,867,786\n",
      "Non-trainable params: 4,096\n",
      "_________________________________________________________________\n",
      "Train on 54000 samples, validate on 6000 samples\n",
      "Epoch 1/3\n",
      "54000/54000 [==============================] - 53s - loss: 451.9107 - acc: 0.3851 - val_loss: 230.9114 - val_acc: 0.4507\n",
      "Epoch 2/3\n",
      "54000/54000 [==============================] - 61s - loss: 315.5529 - acc: 0.6113 - val_loss: 229.7823 - val_acc: 0.8083\n",
      "Epoch 3/3\n",
      "54000/54000 [==============================] - 54s - loss: 305.4868 - acc: 0.7723 - val_loss: 229.6865 - val_acc: 0.8518\n",
      "Test score: 69.0631628418\n",
      "Test accuracy; 0.8377\n"
     ]
    }
   ],
   "source": [
    "from keras.optimizers import SGD, RMSprop, Adagrad, Adadelta, Adam\n",
    "import keras.callbacks\n",
    "from tensorboard_environment import TensorboardEnvironment\n",
    "from my_model import simple_full_connected, vgg_like\n",
    "import os\n",
    "os.environ['CUDA_DEVICE_ORDER']='PCI_BUS_ID'\n",
    "os.environ['CUDA_VISIBLE_DEVICES']='0'\n",
    "\n",
    "with TensorboardEnvironment():\n",
    "    model = simple_full_connected(input_shape=x_train.shape[1:], n_classes=n_classes)\n",
    "#     model = vgg_like(input_shape=x_train.shape[1:], n_classes=n_classes)\n",
    "    model.summary()\n",
    "    optimizer = SGD(lr=0.01, momentum=0.1, decay=0.0, nesterov=False)\n",
    "    model.compile(loss='categorical_crossentropy', optimizer=optimizer, metrics=['accuracy'])\n",
    "\n",
    "    tensorboard_callback = keras.callbacks.TensorBoard(log_dir=log_filepath, histogram_freq=1)\n",
    "    history = model.fit(x_train, y_train, batch_size=batch_size, epochs=epochs, verbose=1, callbacks=[tensorboard_callback], validation_split=0.1)\n",
    "    score = model.evaluate(x_test, y_test, verbose=0)\n",
    "    print('Test score:', score[0])\n",
    "    print('Test accuracy;', score[1])\n"
   ]
  },
  {
   "cell_type": "code",
   "execution_count": null,
   "metadata": {
    "collapsed": true
   },
   "outputs": [],
   "source": []
  }
 ],
 "metadata": {
  "kernelspec": {
   "display_name": "Python 3",
   "language": "python",
   "name": "python3"
  },
  "language_info": {
   "codemirror_mode": {
    "name": "ipython",
    "version": 3
   },
   "file_extension": ".py",
   "mimetype": "text/x-python",
   "name": "python",
   "nbconvert_exporter": "python",
   "pygments_lexer": "ipython3",
   "version": "3.6.1"
  }
 },
 "nbformat": 4,
 "nbformat_minor": 2
}
